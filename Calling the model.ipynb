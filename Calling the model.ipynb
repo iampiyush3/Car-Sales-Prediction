{
 "cells": [
  {
   "cell_type": "code",
   "execution_count": 5,
   "id": "c9582576",
   "metadata": {},
   "outputs": [],
   "source": [
    "import pandas as pd\n",
    "import numpy as np\n",
    "from joblib import dump,load\n",
    "from scipy.special import inv_boxcox\n",
    "lr=load(r\"C:\\Users\\Piyush\\Documents\\ML\\Hands on model\\LinearReg_car.joblib\")"
   ]
  },
  {
   "cell_type": "code",
   "execution_count": 24,
   "id": "20a0f5f4",
   "metadata": {},
   "outputs": [],
   "source": [
    "new_data=pd.DataFrame({\"Enginesize\":[2],\n",
    "                       \"priceinthousands\":[12],\n",
    "                       \"fuelefficiency\":[30],\n",
    "                      \"vehicletypepassenger\":[1]})"
   ]
  },
  {
   "cell_type": "code",
   "execution_count": 25,
   "id": "b12482d8",
   "metadata": {},
   "outputs": [
    {
     "data": {
      "text/html": [
       "<div>\n",
       "<style scoped>\n",
       "    .dataframe tbody tr th:only-of-type {\n",
       "        vertical-align: middle;\n",
       "    }\n",
       "\n",
       "    .dataframe tbody tr th {\n",
       "        vertical-align: top;\n",
       "    }\n",
       "\n",
       "    .dataframe thead th {\n",
       "        text-align: right;\n",
       "    }\n",
       "</style>\n",
       "<table border=\"1\" class=\"dataframe\">\n",
       "  <thead>\n",
       "    <tr style=\"text-align: right;\">\n",
       "      <th></th>\n",
       "      <th>Enginesize</th>\n",
       "      <th>priceinthousands</th>\n",
       "      <th>fuelefficiency</th>\n",
       "      <th>vehicletypepassenger</th>\n",
       "    </tr>\n",
       "  </thead>\n",
       "  <tbody>\n",
       "    <tr>\n",
       "      <th>0</th>\n",
       "      <td>2</td>\n",
       "      <td>12</td>\n",
       "      <td>30</td>\n",
       "      <td>1</td>\n",
       "    </tr>\n",
       "  </tbody>\n",
       "</table>\n",
       "</div>"
      ],
      "text/plain": [
       "   Enginesize  priceinthousands  fuelefficiency  vehicletypepassenger\n",
       "0           2                12              30                     1"
      ]
     },
     "execution_count": 25,
     "metadata": {},
     "output_type": "execute_result"
    }
   ],
   "source": [
    "new_data"
   ]
  },
  {
   "cell_type": "code",
   "execution_count": 28,
   "id": "79a50f9b",
   "metadata": {},
   "outputs": [
    {
     "name": "stderr",
     "output_type": "stream",
     "text": [
      "C:\\Users\\Piyush\\anaconda3\\lib\\site-packages\\sklearn\\base.py:493: FutureWarning: The feature names should match those that were passed during fit. Starting version 1.2, an error will be raised.\n",
      "Feature names unseen at fit time:\n",
      "- Enginesize\n",
      "- fuelefficiency\n",
      "- priceinthousands\n",
      "- vehicletypepassenger\n",
      "Feature names seen at fit time, yet now missing:\n",
      "- Engine_size\n",
      "- Fuel_efficiency\n",
      "- Price_in_thousands\n",
      "- Vehicle_type_Passenger\n",
      "\n",
      "  warnings.warn(message, FutureWarning)\n"
     ]
    },
    {
     "data": {
      "text/plain": [
       "array([6.3683673])"
      ]
     },
     "execution_count": 28,
     "metadata": {},
     "output_type": "execute_result"
    }
   ],
   "source": [
    "lr.predict(new_data) ##this is on transformed value"
   ]
  },
  {
   "cell_type": "code",
   "execution_count": 29,
   "id": "bf9f02e9",
   "metadata": {},
   "outputs": [
    {
     "name": "stderr",
     "output_type": "stream",
     "text": [
      "C:\\Users\\Piyush\\anaconda3\\lib\\site-packages\\sklearn\\base.py:493: FutureWarning: The feature names should match those that were passed during fit. Starting version 1.2, an error will be raised.\n",
      "Feature names unseen at fit time:\n",
      "- Enginesize\n",
      "- fuelefficiency\n",
      "- priceinthousands\n",
      "- vehicletypepassenger\n",
      "Feature names seen at fit time, yet now missing:\n",
      "- Engine_size\n",
      "- Fuel_efficiency\n",
      "- Price_in_thousands\n",
      "- Vehicle_type_Passenger\n",
      "\n",
      "  warnings.warn(message, FutureWarning)\n"
     ]
    },
    {
     "data": {
      "text/plain": [
       "array([62.75110184])"
      ]
     },
     "execution_count": 29,
     "metadata": {},
     "output_type": "execute_result"
    }
   ],
   "source": [
    "inv_boxcox(lr.predict(new_data),0.19511845998877894) "
   ]
  },
  {
   "cell_type": "code",
   "execution_count": 47,
   "id": "51aeeed2",
   "metadata": {},
   "outputs": [],
   "source": [
    "## we can predict the sales by many specificagtion at time\n",
    "new_data=pd.DataFrame({\"Enginesize\":[2,1.8],\n",
    "                       \"priceinthousands\":[12,12],\n",
    "                       \"fuelefficiency\":[30,28],\n",
    "                      \"vehicletypepassenger\":[1,1]})"
   ]
  },
  {
   "cell_type": "code",
   "execution_count": 48,
   "id": "24339370",
   "metadata": {},
   "outputs": [
    {
     "name": "stderr",
     "output_type": "stream",
     "text": [
      "C:\\Users\\Piyush\\anaconda3\\lib\\site-packages\\sklearn\\base.py:493: FutureWarning: The feature names should match those that were passed during fit. Starting version 1.2, an error will be raised.\n",
      "Feature names unseen at fit time:\n",
      "- Enginesize\n",
      "- fuelefficiency\n",
      "- priceinthousands\n",
      "- vehicletypepassenger\n",
      "Feature names seen at fit time, yet now missing:\n",
      "- Engine_size\n",
      "- Fuel_efficiency\n",
      "- Price_in_thousands\n",
      "- Vehicle_type_Passenger\n",
      "\n",
      "  warnings.warn(message, FutureWarning)\n"
     ]
    },
    {
     "data": {
      "text/plain": [
       "array([62.75110184, 42.94757601])"
      ]
     },
     "execution_count": 48,
     "metadata": {},
     "output_type": "execute_result"
    }
   ],
   "source": [
    "inv_boxcox(lr.predict(new_data),0.19511845998877894)"
   ]
  },
  {
   "cell_type": "code",
   "execution_count": 46,
   "id": "b37e4ca5",
   "metadata": {},
   "outputs": [
    {
     "name": "stderr",
     "output_type": "stream",
     "text": [
      "C:\\Users\\Piyush\\anaconda3\\lib\\site-packages\\sklearn\\base.py:493: FutureWarning: The feature names should match those that were passed during fit. Starting version 1.2, an error will be raised.\n",
      "Feature names unseen at fit time:\n",
      "- Enginesize\n",
      "- fuelefficiency\n",
      "- priceinthousands\n",
      "- vehicletypepassenger\n",
      "Feature names seen at fit time, yet now missing:\n",
      "- Engine_size\n",
      "- Fuel_efficiency\n",
      "- Price_in_thousands\n",
      "- Vehicle_type_Passenger\n",
      "\n",
      "  warnings.warn(message, FutureWarning)\n"
     ]
    },
    {
     "data": {
      "text/plain": [
       "array([6.3683673 , 4.57428208])"
      ]
     },
     "execution_count": 46,
     "metadata": {},
     "output_type": "execute_result"
    }
   ],
   "source": [
    "lr.predict(new_data)"
   ]
  }
 ],
 "metadata": {
  "kernelspec": {
   "display_name": "Python 3 (ipykernel)",
   "language": "python",
   "name": "python3"
  },
  "language_info": {
   "codemirror_mode": {
    "name": "ipython",
    "version": 3
   },
   "file_extension": ".py",
   "mimetype": "text/x-python",
   "name": "python",
   "nbconvert_exporter": "python",
   "pygments_lexer": "ipython3",
   "version": "3.9.12"
  }
 },
 "nbformat": 4,
 "nbformat_minor": 5
}
